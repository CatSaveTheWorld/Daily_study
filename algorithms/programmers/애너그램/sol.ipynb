{
 "cells": [
  {
   "cell_type": "code",
   "execution_count": 18,
   "metadata": {},
   "outputs": [
    {
     "name": "stdout",
     "output_type": "stream",
     "text": [
      "lleoH\n",
      "Hello\n"
     ]
    }
   ],
   "source": [
    "def solution(text, anagram, sw):\n",
    "    new_list = [None] * len(anagram)\n",
    "    if sw == True:\n",
    "        for true_idx in range(len(text)):\n",
    "            new_list[anagram[true_idx]] = text[true_idx]\n",
    "    elif sw == False:\n",
    "        for false_idx in range(len(text)):\n",
    "            new_list[false_idx] = text[anagram[false_idx]]\n",
    "    new_str = ''.join(new_list)\n",
    "    return new_str\n",
    "\n",
    "print(solution('Hello', [4, 2, 0, 1, 3], True))  # 'lleoH'\n",
    "print(solution('lleoH', [4, 2, 0, 1, 3], False))  # 'Hello'"
   ]
  },
  {
   "cell_type": "code",
   "execution_count": null,
   "metadata": {},
   "outputs": [],
   "source": []
  }
 ],
 "metadata": {
  "kernelspec": {
   "display_name": "Python 3",
   "language": "python",
   "name": "python3"
  },
  "language_info": {
   "codemirror_mode": {
    "name": "ipython",
    "version": 3
   },
   "file_extension": ".py",
   "mimetype": "text/x-python",
   "name": "python",
   "nbconvert_exporter": "python",
   "pygments_lexer": "ipython3",
   "version": "3.10.9"
  },
  "orig_nbformat": 4,
  "vscode": {
   "interpreter": {
    "hash": "b910343391660a6b4f06997ad8172834d4d681eba9d4ff918f90d01ce7077160"
   }
  }
 },
 "nbformat": 4,
 "nbformat_minor": 2
}
