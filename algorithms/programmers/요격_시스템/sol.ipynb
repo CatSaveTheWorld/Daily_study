{
 "cells": [
  {
   "cell_type": "markdown",
   "metadata": {},
   "source": [
    "# 요격 시스템"
   ]
  },
  {
   "cell_type": "markdown",
   "metadata": {},
   "source": [
    "## 내 풀이"
   ]
  },
  {
   "cell_type": "code",
   "execution_count": 4,
   "metadata": {},
   "outputs": [],
   "source": [
    "def solution(targets):\n",
    "    answer = 1\n",
    "    targets = sorted(targets)\n",
    "    threashold = targets[0]\n",
    "    \n",
    "    print(answer, targets, threashold)\n",
    "    print()\n",
    "    \n",
    "    for idx, ms in enumerate(targets):\n",
    "        print(\"idx:\", idx, ms)\n",
    "        print()\n",
    "        if idx == 0:\n",
    "            continue\n",
    "        if idx == len(targets) - 1:\n",
    "            print(\"마지막\")\n",
    "            print()\n",
    "            break\n",
    "        print(f\"{threashold[1]} - {targets[idx][0]} = {threashold[1] - targets[idx][0]}\")\n",
    "        if threashold[1] - targets[idx][0] >= 1:\n",
    "            print(\"넘어갑니다~\")\n",
    "            print()\n",
    "            continue\n",
    "        else:\n",
    "            answer += 1\n",
    "            threashold = ms\n",
    "            print(\"미사일 추가합니다~\")\n",
    "            print()\n",
    "            \n",
    "    return answer"
   ]
  },
  {
   "cell_type": "code",
   "execution_count": 13,
   "metadata": {},
   "outputs": [],
   "source": [
    "def solution(targets):\n",
    "    shoot = 1\n",
    "    targets.sort(key=lambda x: [x[1], x[0]])\n",
    "    threashold = targets[0]\n",
    "    print(targets)\n",
    "    \n",
    "    for idx, ms in enumerate(targets):\n",
    "        if idx == 0:\n",
    "            continue\n",
    "        if threashold[0] <= ms[0] < threashold[1]:\n",
    "            if targets[idx-1][0] <= ms[0] < targets[idx-1][1]:\n",
    "                print(f\"[통과]{ms}, shoot : {shoot}\")\n",
    "                continue\n",
    "        \n",
    "        shoot += 1\n",
    "        threashold = ms\n",
    "        print(f\"[발사]shoot : {shoot}, 임계점 갱신 : {threashold}\")\n",
    "            \n",
    "    return shoot"
   ]
  },
  {
   "cell_type": "code",
   "execution_count": 14,
   "metadata": {},
   "outputs": [
    {
     "name": "stdout",
     "output_type": "stream",
     "text": [
      "[[1, 4], [4, 5], [3, 7], [4, 8], [5, 12], [11, 13], [10, 14]]\n",
      "[발사]shoot : 2, 임계점 갱신 : [4, 5]\n",
      "[발사]shoot : 3, 임계점 갱신 : [3, 7]\n",
      "[통과][4, 8], shoot : 3\n",
      "[통과][5, 12], shoot : 3\n",
      "[발사]shoot : 4, 임계점 갱신 : [11, 13]\n",
      "[발사]shoot : 5, 임계점 갱신 : [10, 14]\n"
     ]
    },
    {
     "data": {
      "text/plain": [
       "5"
      ]
     },
     "execution_count": 14,
     "metadata": {},
     "output_type": "execute_result"
    }
   ],
   "source": [
    "targets = [[4,5],[4,8],[10,14],[11,13],[5,12],[3,7],[1,4]]\t\n",
    "\n",
    "solution(targets)"
   ]
  },
  {
   "cell_type": "markdown",
   "metadata": {},
   "source": [
    "## 정답"
   ]
  },
  {
   "cell_type": "code",
   "execution_count": 21,
   "metadata": {},
   "outputs": [],
   "source": [
    "def solution(targets):\n",
    "    answer = 0\n",
    "    targets.sort(key = lambda x: [x[1], x[0]])\n",
    "    print(targets)\n",
    "    s = e = 0\n",
    "\n",
    "    for target in targets:\n",
    "        if target[0] >= e:\n",
    "            answer += 1\n",
    "            e = target[1]\n",
    "\n",
    "    return answer "
   ]
  },
  {
   "cell_type": "markdown",
   "metadata": {},
   "source": [
    "## 테스트 케이스"
   ]
  },
  {
   "cell_type": "markdown",
   "metadata": {},
   "source": [
    "|입력|출력|\n",
    "|-|-|\n",
    "|[[1, 4], [4, 5], [3, 7], [4, 8], [5, 12], [11, 13], [10, 14]]|3|\n",
    "[[3, 6], [2, 4], [5, 6], [1, 3]]|2|\n",
    "[[0, 4], [5, 10], [6, 8], [8, 9]]|3|\n",
    "[[0, 4], [1, 2], [1, 3], [3, 4]]|2|\n",
    "[[0, 4], [0, 1], [2, 3]]|2|\n",
    "[[0, 3], [1, 2], [2, 3], [3, 4]]|3|\n",
    "\n",
    "\n"
   ]
  },
  {
   "cell_type": "markdown",
   "metadata": {},
   "source": []
  }
 ],
 "metadata": {
  "kernelspec": {
   "display_name": "Python 3",
   "language": "python",
   "name": "python3"
  },
  "language_info": {
   "codemirror_mode": {
    "name": "ipython",
    "version": 3
   },
   "file_extension": ".py",
   "mimetype": "text/x-python",
   "name": "python",
   "nbconvert_exporter": "python",
   "pygments_lexer": "ipython3",
   "version": "3.10.9"
  },
  "orig_nbformat": 4
 },
 "nbformat": 4,
 "nbformat_minor": 2
}
