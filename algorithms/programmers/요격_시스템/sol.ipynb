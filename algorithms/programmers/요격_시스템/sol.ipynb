{
 "cells": [
  {
   "cell_type": "markdown",
   "metadata": {},
   "source": [
    "# 요격 시스템"
   ]
  },
  {
   "cell_type": "code",
   "execution_count": null,
   "metadata": {},
   "outputs": [],
   "source": [
    "def solution(targets):\n",
    "    answer = 1\n",
    "    targets = sorted(targets)\n",
    "    threashold = targets[0]\n",
    "    \n",
    "    for idx, ms in enumerate(targets):\n",
    "        if idx == len(targets) - 1:\n",
    "            break\n",
    "        \n",
    "        if threashold[1] - targets[idx+1][0] >= 1:\n",
    "            continue\n",
    "        else:\n",
    "            answer += 1\n",
    "            threashold = ms\n",
    "    return answer"
   ]
  }
 ],
 "metadata": {
  "language_info": {
   "name": "python"
  },
  "orig_nbformat": 4
 },
 "nbformat": 4,
 "nbformat_minor": 2
}
