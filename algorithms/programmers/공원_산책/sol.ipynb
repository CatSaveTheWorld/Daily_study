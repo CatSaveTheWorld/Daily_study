{
 "cells": [
  {
   "cell_type": "markdown",
   "metadata": {},
   "source": [
    "# 공원 산책"
   ]
  },
  {
   "cell_type": "code",
   "execution_count": null,
   "metadata": {},
   "outputs": [],
   "source": [
    "def solution(park, routes):\n",
    "    # 시작점('S') 찾기\n",
    "    x, y = 0, 0\n",
    "    for row in range(len(park)):\n",
    "        for col in range(len(park[row])):\n",
    "            if park[row][col] == 'S':  # 시작 지점 'S'\n",
    "                x, y = row, col\n",
    "    \n",
    "    # 이동 방향 정의\n",
    "    op = {'N':(-1, 0), 'S':(1, 0), 'W':(0, -1), 'E':(0, 1)}\n",
    "    \n",
    "    # 이동\n",
    "    for i in routes:\n",
    "        dx, dy = op[i.split()[0]]  # op에서 해당 방향에 맞는 이동 값 dx, dy로 가져오기\n",
    "        n = int(i.split()[1])  # 이동 횟수\n",
    "        \n",
    "        xx, yy = x, y  # n번의 이동 동안 변하는 좌표 저장 xx, yy\n",
    "        canmove = True  # 이동할 수 있는 route인지 확인\n",
    "        \n",
    "        # n번 이동해보기\n",
    "        for _ in range(n):\n",
    "            nx = xx + dx  # 이동한 위치\n",
    "            ny = yy + dy  # 이동한 위치\n",
    "            \n",
    "            # 공원 안에 있고, 장애물이 아니면 이동 가능(True)\n",
    "            if 0 <= nx <= len(park)-1 and 0 <= ny <= len(park[0])-1 and park[nx][ny] != 'X':\n",
    "                canmove = True\n",
    "                xx, yy = nx, ny\n",
    "            else:  # 공원을 벗어낫거나, 장애물이면 이동 불가(False)\n",
    "                canmove = False\n",
    "                break\n",
    "                \n",
    "        if canmove:  # 이동이 가능하면 위치 반영해주기\n",
    "            x, y = nx, ny  \n",
    "        \n",
    "    return [x, y]"
   ]
  }
 ],
 "metadata": {
  "language_info": {
   "name": "python"
  },
  "orig_nbformat": 4
 },
 "nbformat": 4,
 "nbformat_minor": 2
}
