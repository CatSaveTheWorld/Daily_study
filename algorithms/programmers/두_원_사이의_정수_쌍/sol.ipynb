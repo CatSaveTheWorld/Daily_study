{
 "cells": [
  {
   "cell_type": "markdown",
   "metadata": {},
   "source": [
    "# 두 원 사이의 정수 쌍"
   ]
  },
  {
   "cell_type": "markdown",
   "metadata": {},
   "source": [
    "![img](./두_원_사이의_정수_쌍.png)"
   ]
  },
  {
   "cell_type": "markdown",
   "metadata": {},
   "source": [
    "## 내 풀이"
   ]
  },
  {
   "cell_type": "markdown",
   "metadata": {},
   "source": [
    "축점을 제외한 1개의 분면에서 규칙 : 계차수열\n",
    "일반항 : "
   ]
  },
  {
   "cell_type": "code",
   "execution_count": 54,
   "metadata": {},
   "outputs": [],
   "source": [
    "import math\n",
    "\n",
    "def solution(r1, r2):\n",
    "    answer = 0\n",
    "    x = 0\n",
    "    y = 0\n",
    "    point = (x, y)\n",
    "    \n",
    "    # (0, 2), (0, 3), (1, 2), (2, 2)\n",
    "    for x1 in range(0, r2+1):\n",
    "        for y1 in range(0, r2+1):\n",
    "            print(f\"[투입] point : {x1, y1}\")\n",
    "            if math.sqrt(r1**2 - x1**2) <= y1 <= math.sqrt(r2**2 - x1**2):\n",
    "                point = x1, y1\n",
    "                print(f\"[좌표 변경] point : {point}\")\n",
    "                print()\n",
    "                \n",
    "    return answer"
   ]
  },
  {
   "cell_type": "code",
   "execution_count": 60,
   "metadata": {},
   "outputs": [],
   "source": [
    "def solution(r1, r2):\n",
    "    axial_point_cnt = (r2 - r1 + 1) * 4\n",
    "    r1_point = (r1-1)**2 * 4\n",
    "    r2_point = (r2 - 1)**2 * 4   # a_n = a_(n-1) + 3\n",
    "    answer = r2_point - r1_point\n",
    "    answer = answer + axial_point_cnt\n",
    "    return answer"
   ]
  },
  {
   "cell_type": "code",
   "execution_count": 66,
   "metadata": {},
   "outputs": [
    {
     "data": {
      "text/plain": [
       "40"
      ]
     },
     "execution_count": 66,
     "metadata": {},
     "output_type": "execute_result"
    }
   ],
   "source": [
    "r1 = 2\n",
    "r2 = 4\n",
    "\n",
    "solution(r1, r2)"
   ]
  },
  {
   "cell_type": "markdown",
   "metadata": {},
   "source": [
    "## 정답"
   ]
  },
  {
   "cell_type": "code",
   "execution_count": 65,
   "metadata": {},
   "outputs": [],
   "source": [
    "import math\n",
    "\n",
    "def solution(r1, r2):\n",
    "    answer = 0\n",
    "    for i in range(1, r2+1):\n",
    "        if i < r1 :\n",
    "            s = math.ceil(math.sqrt((r1**2 - i**2)))\n",
    "        else : \n",
    "            s = 0\n",
    "\n",
    "        e = int(math.sqrt((r2**2 - i**2)))\n",
    "        answer = answer + e - s + 1\n",
    "\n",
    "    return answer*4"
   ]
  },
  {
   "cell_type": "code",
   "execution_count": null,
   "metadata": {},
   "outputs": [],
   "source": []
  },
  {
   "cell_type": "markdown",
   "metadata": {},
   "source": [
    "## 테스트 케이스"
   ]
  },
  {
   "cell_type": "markdown",
   "metadata": {},
   "source": [
    "|입력1|입력2|출력|\n",
    "|-|-|-|\n",
    "|1|2|12|\n",
    "|2|3|20|\n",
    "|1|3|28|\n",
    "|2|4|40|\n",
    "|9|20|1008|\n",
    "|10|20|952|\n",
    "|999999|1000000|6281440|\n"
   ]
  }
 ],
 "metadata": {
  "kernelspec": {
   "display_name": "Python 3",
   "language": "python",
   "name": "python3"
  },
  "language_info": {
   "codemirror_mode": {
    "name": "ipython",
    "version": 3
   },
   "file_extension": ".py",
   "mimetype": "text/x-python",
   "name": "python",
   "nbconvert_exporter": "python",
   "pygments_lexer": "ipython3",
   "version": "3.10.9"
  },
  "orig_nbformat": 4
 },
 "nbformat": 4,
 "nbformat_minor": 2
}
