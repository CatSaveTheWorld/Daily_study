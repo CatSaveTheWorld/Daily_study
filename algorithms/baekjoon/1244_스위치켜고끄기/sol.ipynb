{
 "cells": [
  {
   "cell_type": "code",
   "execution_count": 20,
   "metadata": {},
   "outputs": [
    {
     "data": {
      "text/plain": [
       "['8', '0 1 0 1 0 0 0 1', '5', '1 3', '2 3', '2 7', '1 1', '2 8']"
      ]
     },
     "execution_count": 20,
     "metadata": {},
     "output_type": "execute_result"
    }
   ],
   "source": [
    "infile = open('input.txt', 'r')\n",
    "infile = list(map(lambda x: x.replace('\\n', ''), infile))\n",
    "infile"
   ]
  },
  {
   "cell_type": "code",
   "execution_count": 17,
   "metadata": {},
   "outputs": [
    {
     "ename": "AttributeError",
     "evalue": "'list' object has no attribute 'split'",
     "output_type": "error",
     "traceback": [
      "\u001b[1;31m---------------------------------------------------------------------------\u001b[0m",
      "\u001b[1;31mAttributeError\u001b[0m                            Traceback (most recent call last)",
      "Cell \u001b[1;32mIn[17], line 9\u001b[0m\n\u001b[0;32m      6\u001b[0m student_cnt \u001b[39m=\u001b[39m \u001b[39mint\u001b[39m(infile[\u001b[39m2\u001b[39m])\n\u001b[0;32m      8\u001b[0m \u001b[39mfor\u001b[39;00m _ \u001b[39min\u001b[39;00m \u001b[39mrange\u001b[39m(student_cnt):\n\u001b[1;32m----> 9\u001b[0m     gender, num \u001b[39m=\u001b[39m \u001b[39mmap\u001b[39m(\u001b[39mint\u001b[39m, infile[\u001b[39m3\u001b[39;49m:]\u001b[39m.\u001b[39;49msplit())\n\u001b[0;32m     11\u001b[0m     \u001b[39m# 남자 => num의 배수 스위치를 다 바꿈.\u001b[39;00m\n\u001b[0;32m     12\u001b[0m     \u001b[39mif\u001b[39;00m gender \u001b[39m==\u001b[39m \u001b[39m1\u001b[39m:\n",
      "\u001b[1;31mAttributeError\u001b[0m: 'list' object has no attribute 'split'"
     ]
    }
   ],
   "source": [
    "infile = open('input.txt', 'r')\n",
    "infile = list(map(lambda x: x.replace('\\n', ''), infile))\n",
    "\n",
    "N = int(infile[0])\n",
    "switches = list(map(int, infile[1].split()))\n",
    "student_cnt = int(infile[2])\n",
    "\n",
    "for _ in range(student_cnt):\n",
    "    gen_num = infile[3:]\n",
    "    gender, num = map(int, infile[3:].split())\n",
    "\n",
    "    # 남자 => num의 배수 스위치를 다 바꿈.\n",
    "    if gender == 1:\n",
    "        i = 1\n",
    "        idx = num - 1\n",
    "        while idx < N:\n",
    "            switches[idx] = 0 if switches[idx] else 1\n",
    "            # 혹은\n",
    "            # switches[idx] ^= 1\n",
    "            i += 1\n",
    "            idx = (num * i) - 1\n",
    "    # 여자 => num은 바꾸고, 좌우대칭이면 바꿈.\n",
    "    else:\n",
    "        switches[idx] ^= 1\n",
    "        side = 1\n",
    "\n",
    "        while 0 <= (idx - side) and (idx + side) < N:\n",
    "            left = switches[idx-side]\n",
    "            right = switches[idx+side]\n",
    "        \n",
    "        if left != right:\n",
    "            break\n",
    "        else:\n",
    "            switches[idx-side] ^= 1\n",
    "            switches[idx+side] ^= 1\n",
    "            side += 1\n",
    "for part_no in range(N // 20 + 1):\n",
    "    start = 20 * part_no\n",
    "\n",
    "'''\n",
    "^ : XOR 연산\n",
    "다르면 1, 같으면 0 반환\n",
    "\n",
    "예시)\n",
    "3 ^ 4 >> 7\n",
    "3 = 011(2)\n",
    "4 = 100(2)\n",
    "\n",
    "011(2) + 100(2) = 111(2) => 7\n",
    "'''"
   ]
  },
  {
   "cell_type": "code",
   "execution_count": null,
   "metadata": {},
   "outputs": [],
   "source": [
    "import sys\n",
    "sys.stdin = open('input.txt')\n",
    "\n",
    "N = int(input())\n",
    "\n",
    "\n",
    "switches = list(map(int, input().split()))\n",
    "student_cnt = int(input())\n",
    "\n",
    "for _ in range(student_cnt):\n",
    "    gender, num = map(int, input().split())\n",
    "\n",
    "    # 남자 => num의 배수 스위치를 다 바꿈.\n",
    "    if gender == 1:\n",
    "        i = 1\n",
    "        idx = num - 1\n",
    "        while idx < N:\n",
    "            switches[idx] = 0 if switches[idx] else 1\n",
    "            # 혹은\n",
    "            # switches[idx] ^= 1\n",
    "            i += 1\n",
    "            idx = (num * i) - 1\n",
    "    # 여자 => num은 바꾸고, 좌우대칭이면 바꿈.\n",
    "    else:\n",
    "        switches[idx] ^= 1\n",
    "        side = 1\n",
    "\n",
    "        while 0 <= (idx - side) and (idx + side) < N:\n",
    "            left = switches[idx-side]\n",
    "            right = switches[idx+side]\n",
    "        \n",
    "        if left != right:\n",
    "            break\n",
    "        else:\n",
    "            switches[idx-side] ^= 1\n",
    "            switches[idx+side] ^= 1\n",
    "            side += 1\n",
    "for part_no in range(N // 20 + 1):\n",
    "    start = 20 * part_no"
   ]
  },
  {
   "cell_type": "code",
   "execution_count": 1,
   "metadata": {},
   "outputs": [
    {
     "data": {
      "text/plain": [
       "['8', '0 1 0 1 0 0 0 1', '5', '1 3', '2 3', '2 7', '1 1', '2 8']"
      ]
     },
     "execution_count": 1,
     "metadata": {},
     "output_type": "execute_result"
    }
   ],
   "source": []
  }
 ],
 "metadata": {
  "kernelspec": {
   "display_name": "Python 3",
   "language": "python",
   "name": "python3"
  },
  "language_info": {
   "codemirror_mode": {
    "name": "ipython",
    "version": 3
   },
   "file_extension": ".py",
   "mimetype": "text/x-python",
   "name": "python",
   "nbconvert_exporter": "python",
   "pygments_lexer": "ipython3",
   "version": "3.10.9"
  },
  "orig_nbformat": 4,
  "vscode": {
   "interpreter": {
    "hash": "b910343391660a6b4f06997ad8172834d4d681eba9d4ff918f90d01ce7077160"
   }
  }
 },
 "nbformat": 4,
 "nbformat_minor": 2
}
