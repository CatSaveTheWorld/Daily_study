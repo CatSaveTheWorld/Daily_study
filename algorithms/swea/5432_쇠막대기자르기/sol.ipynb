{
 "cells": [
  {
   "cell_type": "code",
   "execution_count": null,
   "metadata": {},
   "outputs": [],
   "source": [
    "import os\n",
    "os.getcwd()"
   ]
  },
  {
   "cell_type": "code",
   "execution_count": null,
   "metadata": {},
   "outputs": [],
   "source": [
    "infile = list(open('sample_input.txt', 'r'))\n",
    "\n",
    "infile = list(map(lambda x: x.replace('\\n', ''), infile))\n",
    "# 혹은\n",
    "# for idx, line in enumerate(infile):\n",
    "#     line = line.replace('\\n', '')\n",
    "#     infile[idx] = line\n",
    "\n",
    "T = int(infile[0])\n",
    "\n",
    "for tc in range(1, T+1):\n",
    "    sticks = infile[tc]\n",
    "    sticks = sticks.replace('()', '*')\n",
    "    print(sticks)\n",
    "\n",
    "    total = bar = 0\n",
    "\n",
    "    for char in sticks:\n",
    "        if char == '(':\n",
    "            bar += 1\n",
    "        elif char == ')':\n",
    "            bar -= 1\n",
    "            total += 1\n",
    "        else:\n",
    "            total += bar\n",
    "\n",
    "    print(f'#{tc} {total}')"
   ]
  },
  {
   "cell_type": "code",
   "execution_count": null,
   "metadata": {},
   "outputs": [],
   "source": [
    "import sys\n",
    "sys.stdin = open('sample_input.txt')\n",
    "\n",
    "T = int(input())\n",
    "\n",
    "for tc in range(1, T+1):\n",
    "    sticks = input()\n",
    "    sticks = sticks.replace('()', '*')\n",
    "    \n",
    "    total = bar = 0\n",
    "\n",
    "    for char in sticks:\n",
    "        if char == '(':\n",
    "            bar += 1\n",
    "        elif char == ')':\n",
    "            bar -= 1\n",
    "            total += 1\n",
    "        else:\n",
    "            total += bar\n",
    "\n",
    "    print(f'#{tc} {total}')"
   ]
  }
 ],
 "metadata": {
  "kernelspec": {
   "display_name": "Python 3",
   "language": "python",
   "name": "python3"
  },
  "language_info": {
   "name": "python",
   "version": "3.10.9 (tags/v3.10.9:1dd9be6, Dec  6 2022, 20:01:21) [MSC v.1934 64 bit (AMD64)]"
  },
  "orig_nbformat": 4,
  "vscode": {
   "interpreter": {
    "hash": "b910343391660a6b4f06997ad8172834d4d681eba9d4ff918f90d01ce7077160"
   }
  }
 },
 "nbformat": 4,
 "nbformat_minor": 2
}
