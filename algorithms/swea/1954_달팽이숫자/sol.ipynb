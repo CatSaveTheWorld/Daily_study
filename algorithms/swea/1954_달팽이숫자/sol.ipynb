{
 "cells": [
  {
   "cell_type": "code",
   "execution_count": 5,
   "metadata": {},
   "outputs": [
    {
     "data": {
      "text/plain": [
       "'c:\\\\Users\\\\TECH2_01\\\\TIL\\\\algorithms\\\\swea\\\\1954_달팽이숫자'"
      ]
     },
     "execution_count": 5,
     "metadata": {},
     "output_type": "execute_result"
    }
   ],
   "source": [
    "import os\n",
    "\n",
    "# os.chdir('../')\n",
    "os.getcwd()     # 'c:\\\\Users\\\\4ser\\\\Documents\\\\TIL\\\\algorithms\\\\swea\\\\1954_달팽이숫자'"
   ]
  },
  {
   "cell_type": "code",
   "execution_count": null,
   "metadata": {},
   "outputs": [],
   "source": [
    "T = int(input())\n",
    "\n",
    "print(T)\n",
    "\n",
    "for tc in range(1 + T+1):\n",
    "    N = int(input())\n",
    "    print(N)"
   ]
  },
  {
   "cell_type": "code",
   "execution_count": 44,
   "metadata": {},
   "outputs": [
    {
     "ename": "TypeError",
     "evalue": "'list' object cannot be interpreted as an integer",
     "output_type": "error",
     "traceback": [
      "\u001b[1;31m---------------------------------------------------------------------------\u001b[0m",
      "\u001b[1;31mTypeError\u001b[0m                                 Traceback (most recent call last)",
      "Cell \u001b[1;32mIn[44], line 18\u001b[0m\n\u001b[0;32m     16\u001b[0m \u001b[39mfor\u001b[39;00m _ \u001b[39min\u001b[39;00m \u001b[39mrange\u001b[39m(\u001b[39mlen\u001b[39m(N)):\n\u001b[0;32m     17\u001b[0m     extend_list \u001b[39m=\u001b[39m []\n\u001b[1;32m---> 18\u001b[0m     \u001b[39mfor\u001b[39;00m __ \u001b[39min\u001b[39;00m \u001b[39mrange\u001b[39;49m(N):\n\u001b[0;32m     19\u001b[0m         extend_list\u001b[39m.\u001b[39mappend(\u001b[39m0\u001b[39m)\n\u001b[0;32m     20\u001b[0m     new_list\u001b[39m.\u001b[39mappend(extend_list)\n",
      "\u001b[1;31mTypeError\u001b[0m: 'list' object cannot be interpreted as an integer"
     ]
    }
   ],
   "source": [
    "N = list(open('input.txt', 'r'))\n",
    "\n",
    "for idx, line in enumerate(N):\n",
    "    if '\\n' in line:\n",
    "        line = line.replace('\\n', '')\n",
    "        N[idx] = line\n",
    "\n",
    "# T = int(input())\n",
    "N = list(map(int, N))\n",
    "T = N.pop(0)\n",
    "\n",
    "for tc in range(1, T+1):\n",
    "    # N = int(input())\n",
    "    \n",
    "    new_list = []\n",
    "\n",
    "    # 빈 2차원 리스트 생성\n",
    "    for _ in range(len(N)):\n",
    "        extend_list = []\n",
    "        for __ in range(N):\n",
    "            extend_list.append(0)\n",
    "        new_list.append(extend_list)\n",
    "    \n",
    "    # N = int(input())\n",
    "    for idx, row in enumerate(N):\n",
    "        for jdx, value in enumerate(row):\n",
    "            print(new_list)\n",
    "    \n",
    "    print(f'#{tc} ')\n"
   ]
  },
  {
   "cell_type": "code",
   "execution_count": 46,
   "metadata": {},
   "outputs": [
    {
     "data": {
      "text/plain": [
       "10"
      ]
     },
     "execution_count": 46,
     "metadata": {},
     "output_type": "execute_result"
    }
   ],
   "source": [
    "\n"
   ]
  },
  {
   "cell_type": "code",
   "execution_count": 32,
   "metadata": {},
   "outputs": [
    {
     "data": {
      "text/plain": [
       "10"
      ]
     },
     "execution_count": 32,
     "metadata": {},
     "output_type": "execute_result"
    }
   ],
   "source": [
    "T"
   ]
  },
  {
   "cell_type": "code",
   "execution_count": null,
   "metadata": {},
   "outputs": [],
   "source": []
  }
 ],
 "metadata": {
  "kernelspec": {
   "display_name": "Python 3",
   "language": "python",
   "name": "python3"
  },
  "language_info": {
   "codemirror_mode": {
    "name": "ipython",
    "version": 3
   },
   "file_extension": ".py",
   "mimetype": "text/x-python",
   "name": "python",
   "nbconvert_exporter": "python",
   "pygments_lexer": "ipython3",
   "version": "3.10.9 (tags/v3.10.9:1dd9be6, Dec  6 2022, 20:01:21) [MSC v.1934 64 bit (AMD64)]"
  },
  "orig_nbformat": 4,
  "vscode": {
   "interpreter": {
    "hash": "b910343391660a6b4f06997ad8172834d4d681eba9d4ff918f90d01ce7077160"
   }
  }
 },
 "nbformat": 4,
 "nbformat_minor": 2
}
