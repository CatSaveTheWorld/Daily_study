{
 "cells": [
  {
   "cell_type": "code",
   "execution_count": 1,
   "id": "8da6226c",
   "metadata": {},
   "outputs": [
    {
     "name": "stdout",
     "output_type": "stream",
     "text": [
      "hello\n"
     ]
    }
   ],
   "source": [
    "print('hello')"
   ]
  },
  {
   "cell_type": "markdown",
   "id": "892a604e",
   "metadata": {},
   "source": [
    "# 자주 쓰는 단축키 (H 누르면 전체 설명)\n",
    "|명령어|설명|\n",
    "|--|--|\n",
    "|A|현재 셀 위에 코드셀 삽입|\n",
    "|B|현재 셀 아래에 코드셀 삽입|\n",
    "|DD|현재 셀 삭제|\n",
    "|Z|이전에 삭제한 셀 복구|\n",
    "|C|셀 복사|\n",
    "|M|마크다운 셀 전환|\n",
    "|Y|코드셀 전환|\n"
   ]
  },
  {
   "cell_type": "code",
   "execution_count": null,
   "id": "be1e3485",
   "metadata": {},
   "outputs": [],
   "source": [
    "ㄹㅇㄴㅁㅇ"
   ]
  },
  {
   "cell_type": "code",
   "execution_count": 3,
   "id": "612f5be1",
   "metadata": {},
   "outputs": [],
   "source": [
    "def my_sum(x, y):\n",
    "    return x + y"
   ]
  },
  {
   "cell_type": "code",
   "execution_count": 4,
   "id": "1213b7de",
   "metadata": {},
   "outputs": [
    {
     "data": {
      "text/plain": [
       "5"
      ]
     },
     "execution_count": 4,
     "metadata": {},
     "output_type": "execute_result"
    }
   ],
   "source": [
    "my_sum(1, 4)"
   ]
  },
  {
   "cell_type": "code",
   "execution_count": null,
   "id": "d9e299d9",
   "metadata": {},
   "outputs": [],
   "source": []
  },
  {
   "cell_type": "code",
   "execution_count": null,
   "id": "baa4bc37",
   "metadata": {},
   "outputs": [],
   "source": []
  },
  {
   "cell_type": "code",
   "execution_count": null,
   "id": "ccbfa25e",
   "metadata": {},
   "outputs": [],
   "source": [
    "ㄹㅇㄴㅁ"
   ]
  }
 ],
 "metadata": {
  "kernelspec": {
   "display_name": "Python 3 (ipykernel)",
   "language": "python",
   "name": "python3"
  },
  "language_info": {
   "codemirror_mode": {
    "name": "ipython",
    "version": 3
   },
   "file_extension": ".py",
   "mimetype": "text/x-python",
   "name": "python",
   "nbconvert_exporter": "python",
   "pygments_lexer": "ipython3",
   "version": "3.10.9"
  }
 },
 "nbformat": 4,
 "nbformat_minor": 5
}
