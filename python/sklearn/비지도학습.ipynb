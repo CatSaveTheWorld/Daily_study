{
 "cells": [
  {
   "cell_type": "markdown",
   "metadata": {},
   "source": [
    "# 비지도학습"
   ]
  },
  {
   "cell_type": "markdown",
   "metadata": {},
   "source": [
    "## PCA"
   ]
  },
  {
   "cell_type": "code",
   "execution_count": 2,
   "metadata": {},
   "outputs": [
    {
     "name": "stdout",
     "output_type": "stream",
     "text": [
      "Python 3.10.9\n"
     ]
    }
   ],
   "source": [
    "!python --version"
   ]
  },
  {
   "cell_type": "code",
   "execution_count": 1,
   "metadata": {},
   "outputs": [
    {
     "data": {
      "text/plain": [
       "array([[1.120e+01, 2.937e+01, 7.067e+01, ..., 0.000e+00, 1.566e-01,\n",
       "        5.905e-02],\n",
       "       [1.234e+01, 1.227e+01, 7.894e+01, ..., 1.070e-01, 3.110e-01,\n",
       "        7.592e-02],\n",
       "       [1.496e+01, 1.910e+01, 9.703e+01, ..., 1.489e-01, 2.962e-01,\n",
       "        8.472e-02],\n",
       "       ...,\n",
       "       [1.464e+01, 1.524e+01, 9.577e+01, ..., 1.397e-01, 3.151e-01,\n",
       "        8.473e-02],\n",
       "       [1.300e+01, 2.513e+01, 8.261e+01, ..., 5.921e-02, 2.306e-01,\n",
       "        6.291e-02],\n",
       "       [1.184e+01, 1.894e+01, 7.551e+01, ..., 6.913e-02, 2.535e-01,\n",
       "        7.993e-02]])"
      ]
     },
     "execution_count": 1,
     "metadata": {},
     "output_type": "execute_result"
    }
   ],
   "source": [
    "import pandas as pd\n",
    "import numpy as np\n",
    "from sklearn.datasets import load_breast_cancer\n",
    "from sklearn.model_selection import train_test_split\n",
    "\n",
    "cancer = load_breast_cancer()\n",
    "\n",
    "# df_1 = pd.DataFrame(cancer.data, columns=cancer.feature_names)\n",
    "# df_2 = pd.DataFrame(cancer.target, columns=[\"cancer_type\"])\n",
    "# df = pd.concat([df_1, df_2], axis=1)\n",
    "\n",
    "x_train, x_test, y_train, y_test = train_test_split(\n",
    "    cancer.data,\n",
    "    cancer.target,\n",
    "    test_size=0.4,\n",
    "    shuffle=True,\n",
    "    stratify=cancer.target,\n",
    ")\n",
    "\n",
    "x_train"
   ]
  },
  {
   "cell_type": "code",
   "execution_count": 23,
   "metadata": {},
   "outputs": [
    {
     "data": {
      "text/plain": [
       "array([[ 3.72909936, -2.62208287],\n",
       "       [ 2.80584604, -0.05291909],\n",
       "       [ 1.71917504, -1.44737764],\n",
       "       [-2.66925936, -0.71643184],\n",
       "       [-3.48464401,  0.18953668]])"
      ]
     },
     "execution_count": 23,
     "metadata": {},
     "output_type": "execute_result"
    }
   ],
   "source": [
    "from sklearn.decomposition import PCA\n",
    "from sklearn.pipeline import make_pipeline\n",
    "from sklearn.preprocessing import StandardScaler\n",
    "\n",
    "# 차원축소를 하기 전에는 무조건 데이터를 정규화 시켜야함. => 이거 안하면 분산이 왜곡됨.\n",
    "scaler = StandardScaler()\n",
    "scaled_data = scaler.fit_transform(x_train, y_train)\n",
    "scaled_data\n",
    "\n",
    "# n_components의 값이 0 ~ 1 사이면 열의 갯수를 자동으로 지정, 2 이상부터는 내가 직접 지정할 수 있음.\n",
    "pca = PCA(n_components=0.5)\n",
    "pca_data = pca.fit_transform(scaled_data)\n",
    "pca_data[:5]"
   ]
  },
  {
   "cell_type": "code",
   "execution_count": 24,
   "metadata": {},
   "outputs": [
    {
     "data": {
      "text/plain": [
       "array([13.76938658,  5.30572305])"
      ]
     },
     "execution_count": 24,
     "metadata": {},
     "output_type": "execute_result"
    }
   ],
   "source": [
    "# 분산행렬 => 아래에서는 14.04300302,  5.19143981 값으로 두 개.\n",
    "pca.explained_variance_"
   ]
  },
  {
   "cell_type": "code",
   "execution_count": 25,
   "metadata": {},
   "outputs": [
    {
     "data": {
      "text/plain": [
       "array([0.45763357, 0.17633879])"
      ]
     },
     "execution_count": 25,
     "metadata": {},
     "output_type": "execute_result"
    }
   ],
   "source": [
    "# 분산행렬의 비율 => 해당 값들이 데이터를 대표하는 비율\n",
    "pca.explained_variance_ratio_"
   ]
  },
  {
   "cell_type": "code",
   "execution_count": 26,
   "metadata": {},
   "outputs": [
    {
     "data": {
      "text/plain": [
       "0.6339723630727053"
      ]
     },
     "execution_count": 26,
     "metadata": {},
     "output_type": "execute_result"
    }
   ],
   "source": [
    "sum(pca.explained_variance_ratio_)"
   ]
  },
  {
   "cell_type": "code",
   "execution_count": null,
   "metadata": {},
   "outputs": [],
   "source": [
    "# pipeline으로도 가능. 근데 어차피 적정 n값 보려면 따로 돌려서 확인해야됨.\n",
    "model = make_pipeline(\n",
    "    StandardScaler(),\n",
    "    PCA(n_components=0.5)\n",
    ")"
   ]
  },
  {
   "cell_type": "code",
   "execution_count": null,
   "metadata": {},
   "outputs": [],
   "source": []
  },
  {
   "cell_type": "code",
   "execution_count": null,
   "metadata": {},
   "outputs": [],
   "source": []
  },
  {
   "cell_type": "code",
   "execution_count": null,
   "metadata": {},
   "outputs": [],
   "source": []
  }
 ],
 "metadata": {
  "kernelspec": {
   "display_name": "Python 3",
   "language": "python",
   "name": "python3"
  },
  "language_info": {
   "codemirror_mode": {
    "name": "ipython",
    "version": 3
   },
   "file_extension": ".py",
   "mimetype": "text/x-python",
   "name": "python",
   "nbconvert_exporter": "python",
   "pygments_lexer": "ipython3",
   "version": "3.10.9"
  },
  "orig_nbformat": 4
 },
 "nbformat": 4,
 "nbformat_minor": 2
}
