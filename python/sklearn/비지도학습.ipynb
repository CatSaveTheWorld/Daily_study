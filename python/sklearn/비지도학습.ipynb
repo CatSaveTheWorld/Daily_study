{
 "cells": [
  {
   "cell_type": "markdown",
   "metadata": {},
   "source": [
    "# 비지도학습"
   ]
  },
  {
   "cell_type": "markdown",
   "metadata": {},
   "source": [
    "## PCA"
   ]
  },
  {
   "cell_type": "code",
   "execution_count": 7,
   "metadata": {},
   "outputs": [
    {
     "data": {
      "text/plain": [
       "array(['malignant', 'benign'], dtype='<U9')"
      ]
     },
     "execution_count": 7,
     "metadata": {},
     "output_type": "execute_result"
    }
   ],
   "source": []
  },
  {
   "cell_type": "code",
   "execution_count": 22,
   "metadata": {},
   "outputs": [
    {
     "data": {
      "text/plain": [
       "array([[1.945e+01, 1.933e+01, 1.265e+02, ..., 1.999e-01, 3.379e-01,\n",
       "        8.950e-02],\n",
       "       [1.674e+01, 2.159e+01, 1.101e+02, ..., 1.813e-01, 4.863e-01,\n",
       "        8.633e-02],\n",
       "       [1.757e+01, 1.505e+01, 1.150e+02, ..., 1.456e-01, 2.756e-01,\n",
       "        7.919e-02],\n",
       "       ...,\n",
       "       [1.075e+01, 1.497e+01, 6.826e+01, ..., 3.413e-02, 2.300e-01,\n",
       "        6.769e-02],\n",
       "       [1.546e+01, 1.948e+01, 1.017e+02, ..., 1.514e-01, 2.837e-01,\n",
       "        8.019e-02],\n",
       "       [1.490e+01, 2.253e+01, 1.021e+02, ..., 2.475e-01, 2.866e-01,\n",
       "        1.155e-01]])"
      ]
     },
     "execution_count": 22,
     "metadata": {},
     "output_type": "execute_result"
    }
   ],
   "source": [
    "import pandas as pd\n",
    "import numpy as np\n",
    "from sklearn.datasets import load_breast_cancer\n",
    "from sklearn.model_selection import train_test_split\n",
    "\n",
    "cancer = load_breast_cancer()\n",
    "\n",
    "# df_1 = pd.DataFrame(cancer.data, columns=cancer.feature_names)\n",
    "# df_2 = pd.DataFrame(cancer.target, columns=[\"cancer_type\"])\n",
    "# df = pd.concat([df_1, df_2], axis=1)\n",
    "\n",
    "x_train, x_test, y_train, y_test = train_test_split(\n",
    "    cancer.data,\n",
    "    cancer.target,\n",
    "    test_size=0.4,\n",
    "    shuffle=True,\n",
    "    stratify=cancer.target,\n",
    ")\n",
    "\n",
    "x_train"
   ]
  },
  {
   "cell_type": "code",
   "execution_count": 23,
   "metadata": {},
   "outputs": [
    {
     "data": {
      "text/plain": [
       "array([[ 3.72909936, -2.62208287],\n",
       "       [ 2.80584604, -0.05291909],\n",
       "       [ 1.71917504, -1.44737764],\n",
       "       [-2.66925936, -0.71643184],\n",
       "       [-3.48464401,  0.18953668]])"
      ]
     },
     "execution_count": 23,
     "metadata": {},
     "output_type": "execute_result"
    }
   ],
   "source": [
    "from sklearn.decomposition import PCA\n",
    "from sklearn.pipeline import make_pipeline\n",
    "from sklearn.preprocessing import StandardScaler\n",
    "\n",
    "# 차원축소를 하기 전에는 무조건 데이터를 정규화 시켜야함. => 이거 안하면 분산이 왜곡됨.\n",
    "scaler = StandardScaler()\n",
    "scaled_data = scaler.fit_transform(x_train, y_train)\n",
    "scaled_data\n",
    "\n",
    "# n_components의 값이 0 ~ 1 사이면 열의 갯수를 자동으로 지정, 2 이상부터는 내가 직접 지정할 수 있음.\n",
    "pca = PCA(n_components=0.5)\n",
    "pca_data = pca.fit_transform(scaled_data)\n",
    "pca_data[:5]"
   ]
  },
  {
   "cell_type": "code",
   "execution_count": 24,
   "metadata": {},
   "outputs": [
    {
     "data": {
      "text/plain": [
       "array([13.76938658,  5.30572305])"
      ]
     },
     "execution_count": 24,
     "metadata": {},
     "output_type": "execute_result"
    }
   ],
   "source": [
    "# 분산행렬 => 아래에서는 14.04300302,  5.19143981 값으로 두 개.\n",
    "pca.explained_variance_"
   ]
  },
  {
   "cell_type": "code",
   "execution_count": 25,
   "metadata": {},
   "outputs": [
    {
     "data": {
      "text/plain": [
       "array([0.45763357, 0.17633879])"
      ]
     },
     "execution_count": 25,
     "metadata": {},
     "output_type": "execute_result"
    }
   ],
   "source": [
    "# 분산행렬의 비율 => 해당 값들이 데이터를 대표하는 비율\n",
    "pca.explained_variance_ratio_"
   ]
  },
  {
   "cell_type": "code",
   "execution_count": 26,
   "metadata": {},
   "outputs": [
    {
     "data": {
      "text/plain": [
       "0.6339723630727053"
      ]
     },
     "execution_count": 26,
     "metadata": {},
     "output_type": "execute_result"
    }
   ],
   "source": [
    "sum(pca.explained_variance_ratio_)"
   ]
  },
  {
   "cell_type": "code",
   "execution_count": null,
   "metadata": {},
   "outputs": [],
   "source": [
    "# pipeline으로도 가능. 근데 어차피 적정 n값 보려면 따로 돌려서 확인해야됨.\n",
    "model = make_pipeline(\n",
    "    StandardScaler(),\n",
    "    PCA(n_components=0.5)\n",
    ")"
   ]
  },
  {
   "cell_type": "code",
   "execution_count": null,
   "metadata": {},
   "outputs": [],
   "source": []
  },
  {
   "cell_type": "code",
   "execution_count": null,
   "metadata": {},
   "outputs": [],
   "source": []
  },
  {
   "cell_type": "code",
   "execution_count": null,
   "metadata": {},
   "outputs": [],
   "source": []
  }
 ],
 "metadata": {
  "kernelspec": {
   "display_name": "Python 3",
   "language": "python",
   "name": "python3"
  },
  "language_info": {
   "codemirror_mode": {
    "name": "ipython",
    "version": 3
   },
   "file_extension": ".py",
   "mimetype": "text/x-python",
   "name": "python",
   "nbconvert_exporter": "python",
   "pygments_lexer": "ipython3",
   "version": "3.10.9"
  },
  "orig_nbformat": 4
 },
 "nbformat": 4,
 "nbformat_minor": 2
}
