{
 "cells": [
  {
   "cell_type": "code",
   "execution_count": null,
   "metadata": {},
   "outputs": [],
   "source": [
    "[1, 1, 1, 2, 1, 1, 1, 2, 1, 1, 2, 2, 1,\n",
    "       2, 2, 2, 1, 2, 1, 2, 2, 2, 1, 2, 1, 1, 2, 2,\n",
    "       2, 2, 2, 2, 2, 1, 2, 2, 1, 1, 1, 2]"
   ]
  },
  {
   "cell_type": "code",
   "execution_count": null,
   "metadata": {},
   "outputs": [],
   "source": [
    "[1, 1, 1, 2, 1, 1, 1, 2, 1, 1, 2, 2, 1,\n",
    "       1, 2, 2, 1, 2, 1, 1, 2, 2, 1, 2, 1, 1, 2, 2,\n",
    "       2, 2, 2, 2, 2, 1, 2, 2, 1, 1, 1, 2]"
   ]
  }
 ],
 "metadata": {
  "language_info": {
   "name": "python"
  },
  "orig_nbformat": 4
 },
 "nbformat": 4,
 "nbformat_minor": 2
}
